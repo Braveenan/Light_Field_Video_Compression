{
 "cells": [
  {
   "cell_type": "code",
   "execution_count": 1,
   "metadata": {},
   "outputs": [],
   "source": [
    "import os\n",
    "import scipy.io\n",
    "import numpy as np"
   ]
  },
  {
   "cell_type": "code",
   "execution_count": 5,
   "metadata": {},
   "outputs": [],
   "source": [
    "# my_dir = \"E:/Semester notes/Individual Research Project/Dataset_video/original_car/Car_15x15views_100f_512x352/u\"\n",
    "# my_dir = \"E:/Semester notes/Individual Research Project/Dataset_video/original_car/Car_15x15views_100f_512x352/v\"\n",
    "my_dir = \"E:/Semester notes/Individual Research Project/Dataset_video/original_car/Car_15x15views_100f_512x352/y\"\n",
    "arr = os.listdir(my_dir)\n",
    "# lfv = np.zeros([15, 15, 176, 256, 100])\n",
    "lfv = np.zeros([8, 8, 352, 512, 100])"
   ]
  },
  {
   "cell_type": "code",
   "execution_count": 6,
   "metadata": {},
   "outputs": [],
   "source": [
    "for i in range(len(arr)):\n",
    "    filename = my_dir + \"/\" + arr[i]\n",
    "    f = scipy.io.loadmat(filename)\n",
    "    x = i//15\n",
    "    y = i%15\n",
    "#     lfv[x,y,:,:,:] = f['U']\n",
    "#     lfv[x,y,:,:,:] = f['V']\n",
    "    if 3<x<12 and 3<y<12:\n",
    "        lfv[x-4,y-4,:,:,:] = f['Y']\n",
    "        "
   ]
  },
  {
   "cell_type": "code",
   "execution_count": 9,
   "metadata": {},
   "outputs": [
    {
     "data": {
      "text/plain": [
       "(8, 8, 352, 512, 20)"
      ]
     },
     "execution_count": 9,
     "metadata": {},
     "output_type": "execute_result"
    }
   ],
   "source": [
    "lfv.shape"
   ]
  },
  {
   "cell_type": "code",
   "execution_count": null,
   "metadata": {},
   "outputs": [],
   "source": [
    "lfv = lfv[:,:,:,:,0:20]"
   ]
  },
  {
   "cell_type": "code",
   "execution_count": null,
   "metadata": {},
   "outputs": [],
   "source": []
  }
 ],
 "metadata": {
  "kernelspec": {
   "display_name": "Python 3",
   "language": "python",
   "name": "python3"
  },
  "language_info": {
   "codemirror_mode": {
    "name": "ipython",
    "version": 3
   },
   "file_extension": ".py",
   "mimetype": "text/x-python",
   "name": "python",
   "nbconvert_exporter": "python",
   "pygments_lexer": "ipython3",
   "version": "3.6.5"
  }
 },
 "nbformat": 4,
 "nbformat_minor": 4
}
