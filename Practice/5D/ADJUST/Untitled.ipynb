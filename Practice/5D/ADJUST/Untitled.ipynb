{
 "cells": [
  {
   "cell_type": "code",
   "execution_count": 1,
   "metadata": {},
   "outputs": [],
   "source": [
    "import os\n",
    "import scipy.io\n",
    "import numpy as np"
   ]
  },
  {
   "cell_type": "code",
   "execution_count": 23,
   "metadata": {},
   "outputs": [],
   "source": [
    "# my_dir = \"E:/Semester notes/Individual Research Project/Dataset_video/original_toys/Toys_15x15views_100f_480x320/u\"\n",
    "# my_dir = \"E:/Semester notes/Individual Research Project/Dataset_video/original_toys/Toys_15x15views_100f_480x320/v\"\n",
    "my_dir = \"E:/Semester notes/Individual Research Project/Dataset_video/original_toys/Toys_15x15views_100f_480x320/y\"\n",
    "arr = os.listdir(my_dir)\n",
    "\n",
    "# lfv = np.zeros([8, 8, 160, 240, 24])\n",
    "lfv = np.zeros([8, 8, 320, 480, 24])"
   ]
  },
  {
   "cell_type": "code",
   "execution_count": 24,
   "metadata": {},
   "outputs": [],
   "source": [
    "for i in range(len(arr)):\n",
    "    filename = my_dir + \"/\" + arr[i]\n",
    "    f = scipy.io.loadmat(filename)\n",
    "    x = i//15\n",
    "    z = i%15\n",
    "\n",
    "    if 3<x<12 and 3<z<12:\n",
    "#         temp = f['U']\n",
    "#         temp = f['V']\n",
    "        temp = f['Y']\n",
    "        lfv[x-4,z-4,:,:,:] = temp[:,:,0:24]\n",
    "        "
   ]
  },
  {
   "cell_type": "code",
   "execution_count": 25,
   "metadata": {},
   "outputs": [
    {
     "data": {
      "text/plain": [
       "(8, 8, 320, 480, 24)"
      ]
     },
     "execution_count": 25,
     "metadata": {},
     "output_type": "execute_result"
    }
   ],
   "source": [
    "lfv.shape"
   ]
  },
  {
   "cell_type": "code",
   "execution_count": 26,
   "metadata": {},
   "outputs": [],
   "source": [
    "# scipy.io.savemat('LFVU_toy.mat', {\"lfv\": lfv}, '-v7.3')\n",
    "# scipy.io.savemat('LFVV_toy.mat', {\"lfv\": lfv}, '-v7.3')\n",
    "scipy.io.savemat('LFVY_toy.mat', {\"lfv\": lfv}, '-v7.3')"
   ]
  },
  {
   "cell_type": "code",
   "execution_count": null,
   "metadata": {},
   "outputs": [],
   "source": []
  }
 ],
 "metadata": {
  "kernelspec": {
   "display_name": "Python 3",
   "language": "python",
   "name": "python3"
  },
  "language_info": {
   "codemirror_mode": {
    "name": "ipython",
    "version": 3
   },
   "file_extension": ".py",
   "mimetype": "text/x-python",
   "name": "python",
   "nbconvert_exporter": "python",
   "pygments_lexer": "ipython3",
   "version": "3.6.5"
  }
 },
 "nbformat": 4,
 "nbformat_minor": 4
}
